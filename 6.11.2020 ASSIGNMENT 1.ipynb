{
 "cells": [
  {
   "cell_type": "raw",
   "metadata": {},
   "source": [
    "#Q1. RAINBOW"
   ]
  },
  {
   "cell_type": "code",
   "execution_count": 1,
   "metadata": {},
   "outputs": [
    {
     "name": "stdout",
     "output_type": "stream",
     "text": [
      "LETS UPGRADE\n"
     ]
    }
   ],
   "source": [
    "#Q2.\n",
    "print(\"LETS UPGRADE\")"
   ]
  },
  {
   "cell_type": "code",
   "execution_count": 14,
   "metadata": {},
   "outputs": [
    {
     "name": "stdout",
     "output_type": "stream",
     "text": [
      "cost price:19\n",
      "selling price:95\n",
      "profit\n"
     ]
    }
   ],
   "source": [
    "#Q3.\n",
    "x=int(input(\"cost price:\"))\n",
    "y=int(input(\"selling price:\"))\n",
    "if y > x:\n",
    "    print(\"profit\")\n",
    "elif x > y:\n",
    "    print(\"Loss\")\n",
    "else:\n",
    "    print(\"Neither\")"
   ]
  },
  {
   "cell_type": "code",
   "execution_count": 22,
   "metadata": {},
   "outputs": [
    {
     "name": "stdout",
     "output_type": "stream",
     "text": [
      "euros:18\n",
      "rupees: 1440\n"
     ]
    }
   ],
   "source": [
    "#Q4.\n",
    "x=int(input(\"euros:\"))\n",
    "convert=x*80\n",
    "print(\"rupees:\",convert)"
   ]
  }
 ],
 "metadata": {
  "kernelspec": {
   "display_name": "Python 3",
   "language": "python",
   "name": "python3"
  },
  "language_info": {
   "codemirror_mode": {
    "name": "ipython",
    "version": 3
   },
   "file_extension": ".py",
   "mimetype": "text/x-python",
   "name": "python",
   "nbconvert_exporter": "python",
   "pygments_lexer": "ipython3",
   "version": "3.8.3"
  }
 },
 "nbformat": 4,
 "nbformat_minor": 4
}
