{
 "cells": [
  {
   "cell_type": "code",
   "execution_count": 2,
   "metadata": {},
   "outputs": [
    {
     "name": "stdout",
     "output_type": "stream",
     "text": [
      "Enter the value : 1\n",
      "Enter the value : 2\n",
      "Enter the value : 3\n",
      "Enter the value : 4\n",
      "Enter the value : 5\n",
      "Enter the value : 6\n",
      "Enter the value : 7\n",
      "Enter the value : 8\n",
      "Enter the value : 9\n",
      "Enter the value : 10\n",
      "The even list [2, 4, 6, 8, 10]\n"
     ]
    }
   ],
   "source": [
    "#Q1\n",
    "l=[]\n",
    "\n",
    "for i in range(0,10):\n",
    "    x = int(input(\"Enter the value : \"))\n",
    "    l.append(x)\n",
    "even_l = []\n",
    "for i in l:\n",
    "    if(i%2==0):\n",
    "        even_l.append(i)\n",
    "        \n",
    "print(\"The even list\",even_l)"
   ]
  },
  {
   "cell_type": "raw",
   "metadata": {},
   "source": [
    "#Q2\n",
    "List comprehensions provide a concise way to create lists. Common applications are to make new lists where each element is the result of some operations applied to each member of another sequence or iterable, or to create a subsequence of those elements that satisfy a certain condition."
   ]
  },
  {
   "cell_type": "code",
   "execution_count": 10,
   "metadata": {},
   "outputs": [
    {
     "data": {
      "text/plain": [
       "[0, 1, 4, 9, 16, 25, 36, 49, 64, 81]"
      ]
     },
     "execution_count": 10,
     "metadata": {},
     "output_type": "execute_result"
    }
   ],
   "source": [
    "#Q2\n",
    "squares = []\n",
    "for x in range(10):\n",
    "       squares.append(x**2)\n",
    "squares\n",
    "# this prgram performs operation by overwriting the value of x each time the operation is performed."
   ]
  },
  {
   "cell_type": "code",
   "execution_count": 16,
   "metadata": {},
   "outputs": [
    {
     "name": "stdout",
     "output_type": "stream",
     "text": [
      "5\n",
      "{1: 1, 2: 4, 3: 9, 4: 16, 5: 25}\n"
     ]
    }
   ],
   "source": [
    "#Q3\n",
    "dictionary = {}\n",
    "n = int(input())\n",
    "for i in range(1, n+1):\n",
    "    dictionary[i] = i*i\n",
    "print(dictionary)\n"
   ]
  },
  {
   "cell_type": "code",
   "execution_count": 17,
   "metadata": {},
   "outputs": [
    {
     "name": "stdout",
     "output_type": "stream",
     "text": [
      "4\n",
      "UP 5\n",
      "DOWN 3\n",
      "LEFT 3\n",
      "RIGHT 2\n",
      "2\n"
     ]
    }
   ],
   "source": [
    "#Q4\n",
    "pos = {\"x\": 0, \"y\": 0}\n",
    "\n",
    "fixNumber = int(input())\n",
    "for i in range(fixNumber):\n",
    "\n",
    "    inputValue = input()\n",
    "    if not inputValue:\n",
    "        break\n",
    "    direction, steps = inputValue.split()\n",
    "    if direction == \"UP\":\n",
    "        pos[\"y\"] += int(steps)\n",
    "\n",
    "    elif direction == \"DOWN\":\n",
    "        pos[\"y\"] -= int(steps)\n",
    "\n",
    "    elif direction == \"LEFT\":\n",
    "        pos[\"x\"] -= int(steps)\n",
    "\n",
    "    elif direction == \"RIGHT\":\n",
    "        pos[\"x\"] += int(steps)\n",
    "\n",
    "print(int(round((pos[\"x\"] ** 2 + pos[\"y\"] ** 2) ** 0.5))) "
   ]
  },
  {
   "cell_type": "code",
   "execution_count": null,
   "metadata": {},
   "outputs": [],
   "source": []
  }
 ],
 "metadata": {
  "kernelspec": {
   "display_name": "Python 3",
   "language": "python",
   "name": "python3"
  }
 },
 "nbformat": 4,
 "nbformat_minor": 4
}
